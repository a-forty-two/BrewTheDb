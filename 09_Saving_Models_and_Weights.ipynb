{
  "nbformat": 4,
  "nbformat_minor": 0,
  "metadata": {
    "colab": {
      "name": "09 Saving Models and Weights.ipynb",
      "provenance": [],
      "authorship_tag": "ABX9TyPl6kydlcfqoaFgSaKfw/h9",
      "include_colab_link": true
    },
    "kernelspec": {
      "name": "python3",
      "display_name": "Python 3"
    }
  },
  "cells": [
    {
      "cell_type": "markdown",
      "metadata": {
        "id": "view-in-github",
        "colab_type": "text"
      },
      "source": [
        "<a href=\"https://colab.research.google.com/github/a-forty-two/BrewTheDb/blob/master/09_Saving_Models_and_Weights.ipynb\" target=\"_parent\"><img src=\"https://colab.research.google.com/assets/colab-badge.svg\" alt=\"Open In Colab\"/></a>"
      ]
    },
    {
      "cell_type": "code",
      "metadata": {
        "id": "Wm6_V2bhWOlU",
        "colab_type": "code",
        "colab": {}
      },
      "source": [
        "# ECONOMICS -> MAXMIZING PROFIT /MINIMIZING LOSS -> Game Theory\n",
        "# TRUST"
      ],
      "execution_count": 0,
      "outputs": []
    },
    {
      "cell_type": "code",
      "metadata": {
        "id": "aBvRgNe-XbTa",
        "colab_type": "code",
        "colab": {
          "base_uri": "https://localhost:8080/",
          "height": 35
        },
        "outputId": "eca70b13-6212-4704-80e7-2a822cbe4386"
      },
      "source": [
        "# Dataset: https://github.com/a-forty-two/cylons/blob/master/diabetes%20(1).csv\n",
        "# PIMA INDIANS DIABETES DATASET from Kaggle \n",
        "\n",
        "!ls"
      ],
      "execution_count": 1,
      "outputs": [
        {
          "output_type": "stream",
          "text": [
            "'diabetes (1).csv'   sample_data\n"
          ],
          "name": "stdout"
        }
      ]
    },
    {
      "cell_type": "code",
      "metadata": {
        "id": "d2hpNl8UaBCJ",
        "colab_type": "code",
        "colab": {}
      },
      "source": [
        "from keras.models import Sequential\n",
        "from keras.layers import Dense\n",
        "from keras.models import model_from_json\n",
        "import numpy\n",
        "import os \n",
        "numpy.random.seed(42)"
      ],
      "execution_count": 0,
      "outputs": []
    },
    {
      "cell_type": "code",
      "metadata": {
        "id": "TxPbKUR0aYcD",
        "colab_type": "code",
        "colab": {
          "base_uri": "https://localhost:8080/",
          "height": 139
        },
        "outputId": "7cc978a5-7a76-4fbe-8531-2dcbecddc0c2"
      },
      "source": [
        "dataset = numpy.loadtxt('diabetes (1).csv' , delimiter=',', skiprows=1)\n",
        "dataset"
      ],
      "execution_count": 9,
      "outputs": [
        {
          "output_type": "execute_result",
          "data": {
            "text/plain": [
              "array([[  6.   , 148.   ,  72.   , ...,   0.627,  50.   ,   1.   ],\n",
              "       [  1.   ,  85.   ,  66.   , ...,   0.351,  31.   ,   0.   ],\n",
              "       [  8.   , 183.   ,  64.   , ...,   0.672,  32.   ,   1.   ],\n",
              "       ...,\n",
              "       [  5.   , 121.   ,  72.   , ...,   0.245,  30.   ,   0.   ],\n",
              "       [  1.   , 126.   ,  60.   , ...,   0.349,  47.   ,   1.   ],\n",
              "       [  1.   ,  93.   ,  70.   , ...,   0.315,  23.   ,   0.   ]])"
            ]
          },
          "metadata": {
            "tags": []
          },
          "execution_count": 9
        }
      ]
    },
    {
      "cell_type": "code",
      "metadata": {
        "id": "9u_P6Y8DbPLx",
        "colab_type": "code",
        "colab": {
          "base_uri": "https://localhost:8080/",
          "height": 35
        },
        "outputId": "0bb85171-f38a-46d0-9ea8-b49dbb9b0a77"
      },
      "source": [
        "X = dataset[:, 0:-1]\n",
        "Y = dataset[:, -1]\n",
        "X.shape"
      ],
      "execution_count": 11,
      "outputs": [
        {
          "output_type": "execute_result",
          "data": {
            "text/plain": [
              "(768, 8)"
            ]
          },
          "metadata": {
            "tags": []
          },
          "execution_count": 11
        }
      ]
    },
    {
      "cell_type": "code",
      "metadata": {
        "id": "UHV9EDYaclwP",
        "colab_type": "code",
        "colab": {}
      },
      "source": [
        "model = Sequential()\n",
        "model.add(Dense(12, input_dim=8, activation='relu')) # tf.nn.relu was TF relu object! \n",
        "model.add(Dense(8, activation='relu'))\n",
        "model.add(Dense(1, activation='sigmoid'))\n",
        "\n",
        "model.compile(optimizer='adam', loss='binary_crossentropy', metrics=['accuracy'])\n",
        "\n"
      ],
      "execution_count": 0,
      "outputs": []
    },
    {
      "cell_type": "code",
      "metadata": {
        "id": "4DZD7U3feATS",
        "colab_type": "code",
        "colab": {
          "base_uri": "https://localhost:8080/",
          "height": 260
        },
        "outputId": "be69c1db-c6bd-4ace-99c7-ebd1e65a3f48"
      },
      "source": [
        "model.summary()"
      ],
      "execution_count": 13,
      "outputs": [
        {
          "output_type": "stream",
          "text": [
            "Model: \"sequential_1\"\n",
            "_________________________________________________________________\n",
            "Layer (type)                 Output Shape              Param #   \n",
            "=================================================================\n",
            "dense_1 (Dense)              (None, 12)                108       \n",
            "_________________________________________________________________\n",
            "dense_2 (Dense)              (None, 8)                 104       \n",
            "_________________________________________________________________\n",
            "dense_3 (Dense)              (None, 1)                 9         \n",
            "=================================================================\n",
            "Total params: 221\n",
            "Trainable params: 221\n",
            "Non-trainable params: 0\n",
            "_________________________________________________________________\n"
          ],
          "name": "stdout"
        }
      ]
    },
    {
      "cell_type": "code",
      "metadata": {
        "id": "VCIAxezLeCQt",
        "colab_type": "code",
        "colab": {
          "base_uri": "https://localhost:8080/",
          "height": 1000
        },
        "outputId": "99dc30fe-57dd-4117-a68a-7338d5ce6cb5"
      },
      "source": [
        "model.fit(X, Y, epochs=100,batch_size=10) # train the model\n"
      ],
      "execution_count": 14,
      "outputs": [
        {
          "output_type": "stream",
          "text": [
            "Epoch 1/100\n",
            "768/768 [==============================] - 1s 745us/step - loss: 17.6838 - accuracy: 0.6380\n",
            "Epoch 2/100\n",
            "768/768 [==============================] - 0s 110us/step - loss: 5.7587 - accuracy: 0.5286\n",
            "Epoch 3/100\n",
            "768/768 [==============================] - 0s 112us/step - loss: 2.9897 - accuracy: 0.5924\n",
            "Epoch 4/100\n",
            "768/768 [==============================] - 0s 110us/step - loss: 2.0202 - accuracy: 0.5951\n",
            "Epoch 5/100\n",
            "768/768 [==============================] - 0s 115us/step - loss: 1.5255 - accuracy: 0.6302\n",
            "Epoch 6/100\n",
            "768/768 [==============================] - 0s 108us/step - loss: 1.1910 - accuracy: 0.6172\n",
            "Epoch 7/100\n",
            "768/768 [==============================] - 0s 110us/step - loss: 0.9214 - accuracy: 0.6445\n",
            "Epoch 8/100\n",
            "768/768 [==============================] - 0s 109us/step - loss: 0.8012 - accuracy: 0.6237\n",
            "Epoch 9/100\n",
            "768/768 [==============================] - 0s 112us/step - loss: 0.7548 - accuracy: 0.6549\n",
            "Epoch 10/100\n",
            "768/768 [==============================] - 0s 112us/step - loss: 0.7304 - accuracy: 0.6641\n",
            "Epoch 11/100\n",
            "768/768 [==============================] - 0s 124us/step - loss: 0.7073 - accuracy: 0.6510\n",
            "Epoch 12/100\n",
            "768/768 [==============================] - 0s 125us/step - loss: 0.6886 - accuracy: 0.6523\n",
            "Epoch 13/100\n",
            "768/768 [==============================] - 0s 134us/step - loss: 0.7440 - accuracy: 0.6497\n",
            "Epoch 14/100\n",
            "768/768 [==============================] - 0s 115us/step - loss: 0.6552 - accuracy: 0.6745\n",
            "Epoch 15/100\n",
            "768/768 [==============================] - 0s 109us/step - loss: 0.7158 - accuracy: 0.6693\n",
            "Epoch 16/100\n",
            "768/768 [==============================] - 0s 110us/step - loss: 0.7126 - accuracy: 0.6576\n",
            "Epoch 17/100\n",
            "768/768 [==============================] - 0s 111us/step - loss: 0.6700 - accuracy: 0.6719\n",
            "Epoch 18/100\n",
            "768/768 [==============================] - 0s 109us/step - loss: 0.6598 - accuracy: 0.6615\n",
            "Epoch 19/100\n",
            "768/768 [==============================] - 0s 108us/step - loss: 0.6578 - accuracy: 0.6706\n",
            "Epoch 20/100\n",
            "768/768 [==============================] - 0s 110us/step - loss: 0.6272 - accuracy: 0.6966\n",
            "Epoch 21/100\n",
            "768/768 [==============================] - 0s 115us/step - loss: 0.6646 - accuracy: 0.6536\n",
            "Epoch 22/100\n",
            "768/768 [==============================] - 0s 120us/step - loss: 0.6172 - accuracy: 0.6953\n",
            "Epoch 23/100\n",
            "768/768 [==============================] - 0s 110us/step - loss: 0.6152 - accuracy: 0.7044\n",
            "Epoch 24/100\n",
            "768/768 [==============================] - 0s 111us/step - loss: 0.6439 - accuracy: 0.6628\n",
            "Epoch 25/100\n",
            "768/768 [==============================] - 0s 111us/step - loss: 0.6020 - accuracy: 0.6966\n",
            "Epoch 26/100\n",
            "768/768 [==============================] - 0s 123us/step - loss: 0.6115 - accuracy: 0.6875\n",
            "Epoch 27/100\n",
            "768/768 [==============================] - 0s 110us/step - loss: 0.5939 - accuracy: 0.7018\n",
            "Epoch 28/100\n",
            "768/768 [==============================] - 0s 107us/step - loss: 0.5951 - accuracy: 0.6940\n",
            "Epoch 29/100\n",
            "768/768 [==============================] - 0s 108us/step - loss: 0.5968 - accuracy: 0.7070\n",
            "Epoch 30/100\n",
            "768/768 [==============================] - 0s 117us/step - loss: 0.6324 - accuracy: 0.6836\n",
            "Epoch 31/100\n",
            "768/768 [==============================] - 0s 110us/step - loss: 0.5995 - accuracy: 0.6927\n",
            "Epoch 32/100\n",
            "768/768 [==============================] - 0s 108us/step - loss: 0.6019 - accuracy: 0.7161\n",
            "Epoch 33/100\n",
            "768/768 [==============================] - 0s 115us/step - loss: 0.6007 - accuracy: 0.6992\n",
            "Epoch 34/100\n",
            "768/768 [==============================] - 0s 110us/step - loss: 0.6097 - accuracy: 0.7044\n",
            "Epoch 35/100\n",
            "768/768 [==============================] - 0s 112us/step - loss: 0.6119 - accuracy: 0.6953\n",
            "Epoch 36/100\n",
            "768/768 [==============================] - 0s 112us/step - loss: 0.5857 - accuracy: 0.7070\n",
            "Epoch 37/100\n",
            "768/768 [==============================] - 0s 111us/step - loss: 0.5731 - accuracy: 0.7057\n",
            "Epoch 38/100\n",
            "768/768 [==============================] - 0s 129us/step - loss: 0.5689 - accuracy: 0.7148\n",
            "Epoch 39/100\n",
            "768/768 [==============================] - 0s 108us/step - loss: 0.6292 - accuracy: 0.6966\n",
            "Epoch 40/100\n",
            "768/768 [==============================] - 0s 112us/step - loss: 0.5929 - accuracy: 0.7018\n",
            "Epoch 41/100\n",
            "768/768 [==============================] - 0s 110us/step - loss: 0.5628 - accuracy: 0.7070\n",
            "Epoch 42/100\n",
            "768/768 [==============================] - 0s 111us/step - loss: 0.5539 - accuracy: 0.7305\n",
            "Epoch 43/100\n",
            "768/768 [==============================] - 0s 110us/step - loss: 0.5780 - accuracy: 0.7188\n",
            "Epoch 44/100\n",
            "768/768 [==============================] - 0s 115us/step - loss: 0.5705 - accuracy: 0.7096\n",
            "Epoch 45/100\n",
            "768/768 [==============================] - 0s 118us/step - loss: 0.5679 - accuracy: 0.7266\n",
            "Epoch 46/100\n",
            "768/768 [==============================] - 0s 112us/step - loss: 0.5799 - accuracy: 0.7148\n",
            "Epoch 47/100\n",
            "768/768 [==============================] - 0s 109us/step - loss: 0.5472 - accuracy: 0.7240\n",
            "Epoch 48/100\n",
            "768/768 [==============================] - 0s 119us/step - loss: 0.5799 - accuracy: 0.7188\n",
            "Epoch 49/100\n",
            "768/768 [==============================] - 0s 111us/step - loss: 0.5850 - accuracy: 0.7109\n",
            "Epoch 50/100\n",
            "768/768 [==============================] - 0s 126us/step - loss: 0.5934 - accuracy: 0.7174\n",
            "Epoch 51/100\n",
            "768/768 [==============================] - 0s 129us/step - loss: 0.6225 - accuracy: 0.6966\n",
            "Epoch 52/100\n",
            "768/768 [==============================] - 0s 132us/step - loss: 0.5527 - accuracy: 0.7305\n",
            "Epoch 53/100\n",
            "768/768 [==============================] - 0s 111us/step - loss: 0.5613 - accuracy: 0.7253\n",
            "Epoch 54/100\n",
            "768/768 [==============================] - 0s 111us/step - loss: 0.5772 - accuracy: 0.7279\n",
            "Epoch 55/100\n",
            "768/768 [==============================] - 0s 111us/step - loss: 0.5664 - accuracy: 0.7253\n",
            "Epoch 56/100\n",
            "768/768 [==============================] - 0s 121us/step - loss: 0.5390 - accuracy: 0.7331\n",
            "Epoch 57/100\n",
            "768/768 [==============================] - 0s 117us/step - loss: 0.5597 - accuracy: 0.7318\n",
            "Epoch 58/100\n",
            "768/768 [==============================] - 0s 114us/step - loss: 0.5564 - accuracy: 0.7266\n",
            "Epoch 59/100\n",
            "768/768 [==============================] - 0s 122us/step - loss: 0.5465 - accuracy: 0.7344\n",
            "Epoch 60/100\n",
            "768/768 [==============================] - 0s 129us/step - loss: 0.5508 - accuracy: 0.7448\n",
            "Epoch 61/100\n",
            "768/768 [==============================] - 0s 126us/step - loss: 0.5712 - accuracy: 0.7305\n",
            "Epoch 62/100\n",
            "768/768 [==============================] - 0s 133us/step - loss: 0.5413 - accuracy: 0.7500\n",
            "Epoch 63/100\n",
            "768/768 [==============================] - 0s 118us/step - loss: 0.5369 - accuracy: 0.7526\n",
            "Epoch 64/100\n",
            "768/768 [==============================] - 0s 112us/step - loss: 0.5618 - accuracy: 0.7214\n",
            "Epoch 65/100\n",
            "768/768 [==============================] - 0s 114us/step - loss: 0.5317 - accuracy: 0.7474\n",
            "Epoch 66/100\n",
            "768/768 [==============================] - 0s 111us/step - loss: 0.5344 - accuracy: 0.7591\n",
            "Epoch 67/100\n",
            "768/768 [==============================] - 0s 124us/step - loss: 0.5534 - accuracy: 0.7240\n",
            "Epoch 68/100\n",
            "768/768 [==============================] - 0s 110us/step - loss: 0.5753 - accuracy: 0.7122\n",
            "Epoch 69/100\n",
            "768/768 [==============================] - 0s 115us/step - loss: 0.5275 - accuracy: 0.7448\n",
            "Epoch 70/100\n",
            "768/768 [==============================] - 0s 113us/step - loss: 0.5727 - accuracy: 0.7292\n",
            "Epoch 71/100\n",
            "768/768 [==============================] - 0s 110us/step - loss: 0.5688 - accuracy: 0.7266\n",
            "Epoch 72/100\n",
            "768/768 [==============================] - 0s 108us/step - loss: 0.5375 - accuracy: 0.7396\n",
            "Epoch 73/100\n",
            "768/768 [==============================] - 0s 108us/step - loss: 0.5370 - accuracy: 0.7435\n",
            "Epoch 74/100\n",
            "768/768 [==============================] - 0s 113us/step - loss: 0.5251 - accuracy: 0.7539\n",
            "Epoch 75/100\n",
            "768/768 [==============================] - 0s 134us/step - loss: 0.5398 - accuracy: 0.7240\n",
            "Epoch 76/100\n",
            "768/768 [==============================] - 0s 130us/step - loss: 0.5265 - accuracy: 0.7487\n",
            "Epoch 77/100\n",
            "768/768 [==============================] - 0s 127us/step - loss: 0.5417 - accuracy: 0.7565\n",
            "Epoch 78/100\n",
            "768/768 [==============================] - 0s 139us/step - loss: 0.5778 - accuracy: 0.7279\n",
            "Epoch 79/100\n",
            "768/768 [==============================] - 0s 117us/step - loss: 0.5399 - accuracy: 0.7383\n",
            "Epoch 80/100\n",
            "768/768 [==============================] - 0s 115us/step - loss: 0.5471 - accuracy: 0.7539\n",
            "Epoch 81/100\n",
            "768/768 [==============================] - 0s 108us/step - loss: 0.5333 - accuracy: 0.7474\n",
            "Epoch 82/100\n",
            "768/768 [==============================] - 0s 116us/step - loss: 0.5582 - accuracy: 0.7148\n",
            "Epoch 83/100\n",
            "768/768 [==============================] - 0s 109us/step - loss: 0.5376 - accuracy: 0.7383\n",
            "Epoch 84/100\n",
            "768/768 [==============================] - 0s 111us/step - loss: 0.5123 - accuracy: 0.7500\n",
            "Epoch 85/100\n",
            "768/768 [==============================] - 0s 111us/step - loss: 0.5344 - accuracy: 0.7461\n",
            "Epoch 86/100\n",
            "768/768 [==============================] - 0s 113us/step - loss: 0.5554 - accuracy: 0.7448\n",
            "Epoch 87/100\n",
            "768/768 [==============================] - 0s 124us/step - loss: 0.5294 - accuracy: 0.7357\n",
            "Epoch 88/100\n",
            "768/768 [==============================] - 0s 127us/step - loss: 0.5503 - accuracy: 0.7474\n",
            "Epoch 89/100\n",
            "768/768 [==============================] - 0s 151us/step - loss: 0.5564 - accuracy: 0.7174\n",
            "Epoch 90/100\n",
            "768/768 [==============================] - 0s 115us/step - loss: 0.5119 - accuracy: 0.7552\n",
            "Epoch 91/100\n",
            "768/768 [==============================] - 0s 113us/step - loss: 0.5280 - accuracy: 0.7474\n",
            "Epoch 92/100\n",
            "768/768 [==============================] - 0s 108us/step - loss: 0.5146 - accuracy: 0.7513\n",
            "Epoch 93/100\n",
            "768/768 [==============================] - 0s 110us/step - loss: 0.5182 - accuracy: 0.7513\n",
            "Epoch 94/100\n",
            "768/768 [==============================] - 0s 108us/step - loss: 0.5110 - accuracy: 0.7604\n",
            "Epoch 95/100\n",
            "768/768 [==============================] - 0s 111us/step - loss: 0.5159 - accuracy: 0.7630\n",
            "Epoch 96/100\n",
            "768/768 [==============================] - 0s 107us/step - loss: 0.5278 - accuracy: 0.7500\n",
            "Epoch 97/100\n",
            "768/768 [==============================] - 0s 110us/step - loss: 0.5181 - accuracy: 0.7474\n",
            "Epoch 98/100\n",
            "768/768 [==============================] - 0s 118us/step - loss: 0.5125 - accuracy: 0.7604\n",
            "Epoch 99/100\n",
            "768/768 [==============================] - 0s 109us/step - loss: 0.5659 - accuracy: 0.7461\n",
            "Epoch 100/100\n",
            "768/768 [==============================] - 0s 115us/step - loss: 0.5182 - accuracy: 0.7396\n"
          ],
          "name": "stdout"
        },
        {
          "output_type": "execute_result",
          "data": {
            "text/plain": [
              "<keras.callbacks.callbacks.History at 0x7f1d9de45048>"
            ]
          },
          "metadata": {
            "tags": []
          },
          "execution_count": 14
        }
      ]
    },
    {
      "cell_type": "code",
      "metadata": {
        "id": "Smvsp7fje9JM",
        "colab_type": "code",
        "colab": {
          "base_uri": "https://localhost:8080/",
          "height": 35
        },
        "outputId": "a8b92d33-2b39-472a-cb3a-74d8a8d75bdd"
      },
      "source": [
        "scores = model.evaluate(X, Y)\n"
      ],
      "execution_count": 15,
      "outputs": [
        {
          "output_type": "stream",
          "text": [
            "768/768 [==============================] - 0s 45us/step\n"
          ],
          "name": "stdout"
        }
      ]
    },
    {
      "cell_type": "code",
      "metadata": {
        "id": "oJiKGa7jfYyz",
        "colab_type": "code",
        "colab": {
          "base_uri": "https://localhost:8080/",
          "height": 35
        },
        "outputId": "63c9c84b-7627-4953-9bea-8dc9f8c7cb32"
      },
      "source": [
        "scores"
      ],
      "execution_count": 16,
      "outputs": [
        {
          "output_type": "execute_result",
          "data": {
            "text/plain": [
              "[0.5110981116692225, 0.75390625]"
            ]
          },
          "metadata": {
            "tags": []
          },
          "execution_count": 16
        }
      ]
    },
    {
      "cell_type": "code",
      "metadata": {
        "id": "x0v-4OB3fcOO",
        "colab_type": "code",
        "colab": {}
      },
      "source": [
        ""
      ],
      "execution_count": 0,
      "outputs": []
    }
  ]
}